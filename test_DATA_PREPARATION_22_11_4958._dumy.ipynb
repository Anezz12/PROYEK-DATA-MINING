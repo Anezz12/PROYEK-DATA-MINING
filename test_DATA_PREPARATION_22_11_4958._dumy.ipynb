import pandas as pd
from collections import Counter
from d.KULIAH.SEMESTER_6.PROYEK_DATA_MINING.WEEK_2_4.DATA_PREPARATION_22_11_4958._dumy import df_resampled

# test_DATA_PREPARATION_22_11_4958._dumy.ipynb

def test_df_resampled_exists():
    # Test if df_resampled exists and is not empty
    assert 'df_resampled' in globals(), "df_resampled is not defined."
    assert not df_resampled.empty, "df_resampled is empty."

def test_class_balance_after_smote():
    # Test if the class distribution is balanced
    class_counts = Counter(df_resampled['parameter_pencemar_kritis'])
    assert len(set(class_counts.values())) == 1, "Classes are not balanced after SMOTE."
    print("Class distribution after SMOTE:", class_counts)

# Run the tests
test_df_resampled_exists()
test_class_balance_after_smote()import pandas as pd
from collections import Counter
from imblearn.over_sampling import SMOTE

# test_DATA_PREPARATION_22_11_4958._dumy.ipynb

def test_smote_balancing():
    # Mock a sample imbalanced dataset
    data = {
        "feature1": [1, 2, 3, 4, 5, 6],
        "feature2": [10, 20, 30, 40, 50, 60],
        "parameter_pencemar_kritis": ["A", "A", "A", "B", "B", "C"]  # Imbalanced classes
    }
    df = pd.DataFrame(data)

    # Separate features and target
    X = df.drop(columns=["parameter_pencemar_kritis"])
    y = df["parameter_pencemar_kritis"]

    # Apply SMOTE
    smote = SMOTE(random_state=42)
    X_resampled, y_resampled = smote.fit_resample(X, y)

    # Combine resampled features and target
    df_resampled = pd.concat([pd.DataFrame(X_resampled, columns=X.columns), pd.DataFrame(y_resampled, columns=["parameter_pencemar_kritis"])], axis=1)

    # Check if the classes are balanced
    class_counts = Counter(y_resampled)
    print("Class distribution after SMOTE:", class_counts)

    # Assert that all classes have the same count
    assert len(set(class_counts.values())) == 1, "Classes are not balanced after SMOTE"

# Run the test
test_smote_balancing()